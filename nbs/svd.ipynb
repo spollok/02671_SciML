{
 "cells": [
  {
   "cell_type": "markdown",
   "metadata": {},
   "source": [
    "# Singular Value Decomposition (SVD)\n",
    "\n",
    "<img src=\"../figs/SVD.png\" width=\"33%\">\n",
    "\n",
    "Unique matrix decomposition that exists for every complex-valued matrix: $X = U \\Sigma V^*~,$ \\\n",
    "where $U \\in \\mathbb{C}^{n \\times n}$ and $V \\in \\mathbb{C}^{m \\times m}$ are unitary matrices (i.e. $UU^*=U^*U=I$) with orthogonal columns. \\\n",
    "$\\Sigma \\in \\mathbb{R}^{n \\times m}$ (singular values) is a matrix with real, non-negative entries on the diagonal and elsewhere zero.\n",
    "\n",
    "- Optimal approximation with Eckart-Young theorem: \"Find SVD at rank $r$ with lowest Frobenius norm\"\n",
    "- Error can be exactly quantified as $||X - \\tilde{X}||^2_F = \\sum_{k=r+1}^m \\sigma_k^2$.\n",
    "\n",
    "#### Scaling\n",
    "- computation time: $\\mathcal{O}(m n^2 + m^3)$\n",
    "- memory usage: $\\mathcal{O}(mn)$"
   ]
  },
  {
   "cell_type": "code",
   "execution_count": 1,
   "metadata": {},
   "outputs": [],
   "source": [
    "import numpy as np"
   ]
  },
  {
   "cell_type": "code",
   "execution_count": 2,
   "metadata": {},
   "outputs": [
    {
     "name": "stdout",
     "output_type": "stream",
     "text": [
      "Original matrix: [[0.07213241 0.19455004 0.68187768]\n",
      " [0.21569743 0.93885505 0.26032407]\n",
      " [0.37473935 0.74719484 0.74534926]\n",
      " [0.42743681 0.10559212 0.69565441]\n",
      " [0.69829747 0.38470504 0.44280127]]\n",
      "\n",
      "Singular values [1.87105213 0.73843637 0.47051135]\n",
      "\n",
      "ROM to rank 2: [[0.32133867 0.16781982 0.54254625]\n",
      " [0.23877192 0.93638004 0.2474231 ]\n",
      " [0.46697661 0.73730134 0.69377933]\n",
      " [0.40691729 0.10779307 0.70712689]\n",
      " [0.38905854 0.41787444 0.61569702]]\n",
      "\n",
      "Truncation error: 0.47, 22.78%\n"
     ]
    }
   ],
   "source": [
    "X = np.random.rand(5,3)\n",
    "print(\"Original matrix:\", X)\n",
    "U, S, V_T = np.linalg.svd(X, full_matrices=True)\n",
    "U_hat, S_hat, V_T = np.linalg.svd(X, full_matrices=False)\n",
    "\n",
    "print(\"\\nSingular values\", S)\n",
    "\n",
    "# Truncated SVD of rank r\n",
    "r = 2\n",
    "X_tilde = U_hat[:, :r] @ np.diag(S_hat[:r]) @ V_T[:r, :]\n",
    "print(f\"\\nROM to rank {r}:\", X_tilde)\n",
    "\n",
    "# Trunction error\n",
    "eps = np.linalg.norm(X - X_tilde, 'fro')\n",
    "eps_rel = eps / np.linalg.norm(X, 'fro') * 100\n",
    "print(f\"\\nTruncation error: {eps:.2f}, {eps_rel:.2f}%\")"
   ]
  },
  {
   "cell_type": "code",
   "execution_count": 9,
   "metadata": {},
   "outputs": [
    {
     "name": "stdout",
     "output_type": "stream",
     "text": [
      "Singular values: [1.87105213 0.73843637 0.47051135]\n",
      "\n",
      "Reconstructed matrix: [[0.07213241 0.19455004 0.68187768]\n",
      " [0.21569743 0.93885505 0.26032407]\n",
      " [0.37473935 0.74719484 0.74534926]\n",
      " [0.42743681 0.10559212 0.69565441]\n",
      " [0.69829747 0.38470504 0.44280127]]\n",
      "\n",
      "Reconstruction error: 0.00\n"
     ]
    }
   ],
   "source": [
    "# Method of snapshots - Eigendecompostion of X.T * X\n",
    "S2, V = np.linalg.eig(X.T @ X)\n",
    "\n",
    "# Method of snapshots\n",
    "# 1) Sort eigenvalues in descending order\n",
    "idx_sort = np.argsort(S2)[::-1]\n",
    "S2 = S2[idx_sort]\n",
    "V = V[:, idx_sort]\n",
    "print(\"Singular values:\", np.sqrt(S2))\n",
    "\n",
    "# 2) Sort V vector in same order\n",
    "\n",
    "# 2) Compute first m columns of U\n",
    "S_mos = np.diag(np.sqrt(S2))\n",
    "S_mos_inv = np.diag(1 / np.sqrt(S2))\n",
    "U_mos = X @ V @ S_mos_inv\n",
    "X_mos = U_mos @ S_mos @ V.T\n",
    "print(\"\\nReconstructed matrix:\", X_mos)\n",
    "\n",
    "eps_mos = np.linalg.norm(X - X_mos, 'fro')\n",
    "print(f\"\\nReconstruction error: {eps_mos:.2f}\")\n"
   ]
  }
 ],
 "metadata": {
  "kernelspec": {
   "display_name": "sciml",
   "language": "python",
   "name": "python3"
  },
  "language_info": {
   "codemirror_mode": {
    "name": "ipython",
    "version": 3
   },
   "file_extension": ".py",
   "mimetype": "text/x-python",
   "name": "python",
   "nbconvert_exporter": "python",
   "pygments_lexer": "ipython3",
   "version": "3.13.2"
  }
 },
 "nbformat": 4,
 "nbformat_minor": 2
}
